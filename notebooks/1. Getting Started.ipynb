{
 "cells": [
  {
   "cell_type": "markdown",
   "metadata": {},
   "source": [
    "# MLOps with Amazon SageMaker: Getting Started\n",
    "\n",
    "> *This notebook works well with the `Python 3 (Data Science)` kernel on SageMaker Studio*\n",
    "\n",
    "Welcome to this short workshop on MLOps with Amazon SageMaker!\n",
    "\n",
    "First we'll install a couple of useful packages for later, in case they're not already available in the kernel environment:"
   ]
  },
  {
   "cell_type": "code",
   "execution_count": 1,
   "metadata": {},
   "outputs": [
    {
     "name": "stdout",
     "output_type": "stream",
     "text": [
      "Collecting altair\n",
      "  Downloading altair-4.1.0-py3-none-any.whl (727 kB)\n",
      "\u001b[K     |████████████████████████████████| 727 kB 41.8 MB/s eta 0:00:01\n",
      "\u001b[?25hRequirement already satisfied: toolz in /opt/conda/lib/python3.7/site-packages (from altair) (0.10.0)\n",
      "Requirement already satisfied: jsonschema in /opt/conda/lib/python3.7/site-packages (from altair) (3.2.0)\n",
      "Requirement already satisfied: pandas>=0.18 in /opt/conda/lib/python3.7/site-packages (from altair) (1.0.1)\n",
      "Requirement already satisfied: jinja2 in /opt/conda/lib/python3.7/site-packages (from altair) (2.11.1)\n",
      "Requirement already satisfied: entrypoints in /opt/conda/lib/python3.7/site-packages (from altair) (0.3)\n",
      "Requirement already satisfied: numpy in /opt/conda/lib/python3.7/site-packages (from altair) (1.18.1)\n",
      "Requirement already satisfied: importlib-metadata; python_version < \"3.8\" in /opt/conda/lib/python3.7/site-packages (from jsonschema->altair) (1.5.0)\n",
      "Requirement already satisfied: attrs>=17.4.0 in /opt/conda/lib/python3.7/site-packages (from jsonschema->altair) (19.3.0)\n",
      "Requirement already satisfied: setuptools in /opt/conda/lib/python3.7/site-packages (from jsonschema->altair) (45.2.0.post20200210)\n",
      "Requirement already satisfied: pyrsistent>=0.14.0 in /opt/conda/lib/python3.7/site-packages (from jsonschema->altair) (0.15.7)\n",
      "Requirement already satisfied: six>=1.11.0 in /opt/conda/lib/python3.7/site-packages (from jsonschema->altair) (1.14.0)\n",
      "Requirement already satisfied: python-dateutil>=2.6.1 in /opt/conda/lib/python3.7/site-packages (from pandas>=0.18->altair) (2.8.1)\n",
      "Requirement already satisfied: pytz>=2017.2 in /opt/conda/lib/python3.7/site-packages (from pandas>=0.18->altair) (2019.3)\n",
      "Requirement already satisfied: MarkupSafe>=0.23 in /opt/conda/lib/python3.7/site-packages (from jinja2->altair) (1.1.1)\n",
      "Requirement already satisfied: zipp>=0.5 in /opt/conda/lib/python3.7/site-packages (from importlib-metadata; python_version < \"3.8\"->jsonschema->altair) (2.2.0)\n",
      "Installing collected packages: altair\n",
      "Successfully installed altair-4.1.0\n"
     ]
    }
   ],
   "source": [
    "!pip install altair"
   ]
  },
  {
   "cell_type": "markdown",
   "metadata": {},
   "source": [
    "## Locating our project environment"
   ]
  },
  {
   "cell_type": "code",
   "execution_count": 2,
   "metadata": {},
   "outputs": [
    {
     "data": {
      "text/plain": [
       "<util.project.ProjectSession(\n",
       "  project_id=creditmodel,\n",
       "  role=arn:aws:iam::024103970757:role/mlopsintro-SageMakerExecutionRole-TK3Y6YQI58VH,\n",
       "  raw_bucket=creditmodel-mlrawdata-024103970757-ap-northeast-1,\n",
       "  sandbox_bucket=creditmodel-mlsandbox-024103970757-ap-northeast-1\n",
       ") at 0x7f1ad8a83850>"
      ]
     },
     "execution_count": 2,
     "metadata": {},
     "output_type": "execute_result"
    }
   ],
   "source": [
    "%load_ext autoreload\n",
    "%autoreload 2\n",
    "import util\n",
    "\n",
    "project_id = \"creditmodel\"  # TODO: Change this if you set a different Project ID in service catalog!\n",
    "\n",
    "project_config = util.project.init(project_id)\n",
    "project_config"
   ]
  },
  {
   "cell_type": "code",
   "execution_count": 3,
   "metadata": {},
   "outputs": [
    {
     "name": "stdout",
     "output_type": "stream",
     "text": [
      "Raw data bucket: s3://creditmodel-mlrawdata-024103970757-ap-northeast-1/\n",
      "Sandbox bucket: s3://creditmodel-mlsandbox-024103970757-ap-northeast-1/\n"
     ]
    }
   ],
   "source": [
    "print(f\"Raw data bucket: s3://{project_config.raw_bucket}/\")\n",
    "print(f\"Sandbox bucket: s3://{project_config.sandbox_bucket}/\")"
   ]
  },
  {
   "cell_type": "markdown",
   "metadata": {},
   "source": [
    "## Preparing data with SageMaker Data Wrangler\n",
    "\n",
    "### Create the data flow\n",
    "\n",
    "(Old initial quick model got to 0.708 F1 before we ran ordinal encodes)\n",
    "\n",
    "(Goes down to 0.692 raw after change to mapping and up to 0.703 after all ordinals, before any one-hots)\n",
    "\n",
    "- Open `credit-data.flow`\n",
    "- Select the input CSV from the raw data bucket as source\n",
    "- Create analysis: `missing.py`\n",
    "- Create analysis: Initial quick model\n",
    "- `credit_risk` strings to int(bool) and move to front `cast(credit_risk == \"bad\" as int)`, move `credit_default` to start, drop `credit_risk`\n",
    "- (Unguided) do same for `telephone` -> `has_telephone` and `foreign_worker` -> `is_foreign_worker` (no need to bring to front)\n",
    "- `checking_acct_status` extract `\\d+` to get the band number, fill with 0 for \"no account\" -> `checking_acct_band`\n",
    "- (Unguided) do same for `savings_status` -> `savings_band` and `highest_property` -> `highest_property_band` (doesn't need filling)\n",
    "- Split `marital_status_and_gender` on ` : `\n",
    "    - 'Matches' for male -> gender_is_male\n",
    "    - Do we need to cast this gender field?\n",
    "    - Split on ` : ` up to 2 splits\n",
    "    - Extract second one to `marital_status_text` text field\n",
    "    - *Featurize Text > Vectorize* with custom tokenizer on regex `/`, no IDF, output as `marital_status` columns (not vector)\n",
    "    - Drop `marital_status_text`\n",
    "- One-hot the `purpose` field\n",
    "- Either one-hot or custom encode these fields:\n",
    "    - `other_parties`? (none / co-applicant / guarantor)\n",
    "    - `other_installment_plans` (bank / stores / none)\n",
    "    - `housing` (rent / own / for free)\n",
    "\n",
    "Train-Test Split (Custom SQL steps):\n",
    "- `random(1337)` as `random_01`\n",
    "- `row_number() over (partition by credit_default order by random_01)` as `stratum_row_num`\n",
    "- `max(stratum_row_num) over (partition by credit_default)` as `stratum_size`\n",
    "- `stratum_row_num / stratum_size` as `stratum_rank_pct`\n",
    "- `case when (stratum_rank_pct < 0.7) then \"train\" when (stratum_rank_pct < 0.85) then \"validation\" else \"test\" end` as `dataset`\n",
    "\n",
    "Wrapping up:\n",
    "- Create target leakage report\n",
    "\n",
    "Extension:\n",
    "- `credit_amount` logscale via `log10(credit_amount)`?\n",
    "\n",
    "\n",
    "Finally:\n",
    "- Export the final node to the feature store?"
   ]
  },
  {
   "cell_type": "code",
   "execution_count": 4,
   "metadata": {},
   "outputs": [],
   "source": [
    "container_uri = # TODO: Get from the example notebook\n",
    "target_output_name = # TODO: Get from 'output_name' in the example notebook"
   ]
  },
  {
   "cell_type": "code",
   "execution_count": 6,
   "metadata": {},
   "outputs": [],
   "source": [
    "import sagemaker\n",
    "\n",
    "processor = sagemaker.Processor(\n",
    "    role=sagemaker.get_execution_role(),  # Just use the current notebook's IAM role\n",
    "    image_uri=container_uri,\n",
    "    instance_count=1,\n",
    "    instance_type=\"ml.m5.4xlarge\",\n",
    ")"
   ]
  },
  {
   "cell_type": "code",
   "execution_count": null,
   "metadata": {
    "scrolled": true
   },
   "outputs": [],
   "source": [
    "processing_job_name = util.uid.append_timestamp(\"credit-flow\")\n",
    "print(f\"Creating Processing job with name {processing_job_name}\")\n",
    "\n",
    "flow_upload_s3uri = f\"s3://{project_config.sandbox_bucket}/data-wrangler/{processing_job_name}/flow/credit-data.flow\"\n",
    "print(f\"Uploading flow file to {flow_upload_s3uri}\")\n",
    "\n",
    "# Outputs automatically create jobname/outputnames subfolders:\n",
    "base_output_s3uri = f\"s3://{project_config.sandbox_bucket}/data-wrangler\"\n",
    "print(f\"Storing results to {flow_output_s3uri}\")\n",
    "\n",
    "processor.run(\n",
    "    inputs=util.wrangler.create_processing_inputs(\"credit-data.flow\", flow_upload_s3uri),\n",
    "    outputs=[\n",
    "        util.wrangler.create_s3_output(target_output_name, base_output_s3uri),\n",
    "#         util.wrangler.create_featurestore_output(\n",
    "#             target_output_name,\n",
    "#             feature_group_name,\n",
    "#         )\n",
    "    ],\n",
    "    arguments=util.wrangler.create_container_arguments(target_output_name),\n",
    "    wait=True,\n",
    "    #logs=False,\n",
    "    job_name=processing_job_name,\n",
    ")"
   ]
  },
  {
   "cell_type": "code",
   "execution_count": 21,
   "metadata": {},
   "outputs": [
    {
     "name": "stdout",
     "output_type": "stream",
     "text": [
      "s3://creditmodel-mlsandbox-024103970757-ap-northeast-1/data-wrangler/credit-flow-2021-03-10-14-52-24/006869ca-e5fe-4c4d-b290-c1fe8127513b/default/\n",
      "2021-03-10 14:57:54        839 part-00000-777bb389-1845-44e3-9d3f-a824a4448fdd-c000.csv\n",
      "2021-03-10 14:57:54      44354 part-00001-777bb389-1845-44e3-9d3f-a824a4448fdd-c000.csv\n",
      "2021-03-10 14:57:54     102266 part-00003-777bb389-1845-44e3-9d3f-a824a4448fdd-c000.csv\n"
     ]
    }
   ],
   "source": [
    "flow_output_s3uri = f\"{base_output_s3uri}/{processing_job_name}/{target_output_name.replace('.', '/')}/\"\n",
    "print(flow_output_s3uri)\n",
    "!aws s3 ls $flow_output_s3uri"
   ]
  },
  {
   "cell_type": "code",
   "execution_count": 40,
   "metadata": {},
   "outputs": [
    {
     "name": "stdout",
     "output_type": "stream",
     "text": [
      "Loading data-wrangler/credit-flow-2021-03-10-14-52-24/006869ca-e5fe-4c4d-b290-c1fe8127513b/default/part-00000-777bb389-1845-44e3-9d3f-a824a4448fdd-c000.csv\n",
      "Loading data-wrangler/credit-flow-2021-03-10-14-52-24/006869ca-e5fe-4c4d-b290-c1fe8127513b/default/part-00001-777bb389-1845-44e3-9d3f-a824a4448fdd-c000.csv\n",
      "Loading data-wrangler/credit-flow-2021-03-10-14-52-24/006869ca-e5fe-4c4d-b290-c1fe8127513b/default/part-00003-777bb389-1845-44e3-9d3f-a824a4448fdd-c000.csv\n"
     ]
    },
    {
     "data": {
      "text/html": [
       "<div>\n",
       "<style scoped>\n",
       "    .dataframe tbody tr th:only-of-type {\n",
       "        vertical-align: middle;\n",
       "    }\n",
       "\n",
       "    .dataframe tbody tr th {\n",
       "        vertical-align: top;\n",
       "    }\n",
       "\n",
       "    .dataframe thead th {\n",
       "        text-align: right;\n",
       "    }\n",
       "</style>\n",
       "<table border=\"1\" class=\"dataframe\">\n",
       "  <thead>\n",
       "    <tr style=\"text-align: right;\">\n",
       "      <th></th>\n",
       "      <th>credit_default</th>\n",
       "      <th>duration_months</th>\n",
       "      <th>credit_history</th>\n",
       "      <th>credit_amount</th>\n",
       "      <th>present_employment_yrs_lt</th>\n",
       "      <th>installment_rate_disp_income_pct</th>\n",
       "      <th>present_residence_since</th>\n",
       "      <th>age_in_years</th>\n",
       "      <th>n_existing_credits_this_bank</th>\n",
       "      <th>job_type</th>\n",
       "      <th>...</th>\n",
       "      <th>other_parties_none</th>\n",
       "      <th>other_parties_guarantor</th>\n",
       "      <th>other_parties_coapplicant</th>\n",
       "      <th>other_installment_plans_none</th>\n",
       "      <th>other_installment_plans_bank</th>\n",
       "      <th>other_installment_plans_stores</th>\n",
       "      <th>housing_own</th>\n",
       "      <th>housing_rent</th>\n",
       "      <th>housing_for_free</th>\n",
       "      <th>dataset</th>\n",
       "    </tr>\n",
       "  </thead>\n",
       "  <tbody>\n",
       "    <tr>\n",
       "      <th>0</th>\n",
       "      <td>1</td>\n",
       "      <td>36</td>\n",
       "      <td>3</td>\n",
       "      <td>2225</td>\n",
       "      <td>10</td>\n",
       "      <td>4</td>\n",
       "      <td>4</td>\n",
       "      <td>57</td>\n",
       "      <td>2</td>\n",
       "      <td>2</td>\n",
       "      <td>...</td>\n",
       "      <td>1.0</td>\n",
       "      <td>0.0</td>\n",
       "      <td>0.0</td>\n",
       "      <td>0.0</td>\n",
       "      <td>1.0</td>\n",
       "      <td>0.0</td>\n",
       "      <td>0.0</td>\n",
       "      <td>0.0</td>\n",
       "      <td>1.0</td>\n",
       "      <td>train</td>\n",
       "    </tr>\n",
       "    <tr>\n",
       "      <th>1</th>\n",
       "      <td>1</td>\n",
       "      <td>12</td>\n",
       "      <td>0</td>\n",
       "      <td>1082</td>\n",
       "      <td>4</td>\n",
       "      <td>4</td>\n",
       "      <td>4</td>\n",
       "      <td>48</td>\n",
       "      <td>2</td>\n",
       "      <td>2</td>\n",
       "      <td>...</td>\n",
       "      <td>1.0</td>\n",
       "      <td>0.0</td>\n",
       "      <td>0.0</td>\n",
       "      <td>0.0</td>\n",
       "      <td>1.0</td>\n",
       "      <td>0.0</td>\n",
       "      <td>1.0</td>\n",
       "      <td>0.0</td>\n",
       "      <td>0.0</td>\n",
       "      <td>train</td>\n",
       "    </tr>\n",
       "    <tr>\n",
       "      <th>2</th>\n",
       "      <td>1</td>\n",
       "      <td>27</td>\n",
       "      <td>2</td>\n",
       "      <td>3915</td>\n",
       "      <td>4</td>\n",
       "      <td>4</td>\n",
       "      <td>2</td>\n",
       "      <td>36</td>\n",
       "      <td>1</td>\n",
       "      <td>2</td>\n",
       "      <td>...</td>\n",
       "      <td>1.0</td>\n",
       "      <td>0.0</td>\n",
       "      <td>0.0</td>\n",
       "      <td>1.0</td>\n",
       "      <td>0.0</td>\n",
       "      <td>0.0</td>\n",
       "      <td>1.0</td>\n",
       "      <td>0.0</td>\n",
       "      <td>0.0</td>\n",
       "      <td>train</td>\n",
       "    </tr>\n",
       "    <tr>\n",
       "      <th>3</th>\n",
       "      <td>1</td>\n",
       "      <td>30</td>\n",
       "      <td>1</td>\n",
       "      <td>7485</td>\n",
       "      <td>0</td>\n",
       "      <td>4</td>\n",
       "      <td>1</td>\n",
       "      <td>53</td>\n",
       "      <td>1</td>\n",
       "      <td>3</td>\n",
       "      <td>...</td>\n",
       "      <td>1.0</td>\n",
       "      <td>0.0</td>\n",
       "      <td>0.0</td>\n",
       "      <td>0.0</td>\n",
       "      <td>1.0</td>\n",
       "      <td>0.0</td>\n",
       "      <td>1.0</td>\n",
       "      <td>0.0</td>\n",
       "      <td>0.0</td>\n",
       "      <td>train</td>\n",
       "    </tr>\n",
       "    <tr>\n",
       "      <th>4</th>\n",
       "      <td>1</td>\n",
       "      <td>6</td>\n",
       "      <td>4</td>\n",
       "      <td>3384</td>\n",
       "      <td>4</td>\n",
       "      <td>1</td>\n",
       "      <td>4</td>\n",
       "      <td>44</td>\n",
       "      <td>1</td>\n",
       "      <td>3</td>\n",
       "      <td>...</td>\n",
       "      <td>1.0</td>\n",
       "      <td>0.0</td>\n",
       "      <td>0.0</td>\n",
       "      <td>1.0</td>\n",
       "      <td>0.0</td>\n",
       "      <td>0.0</td>\n",
       "      <td>0.0</td>\n",
       "      <td>1.0</td>\n",
       "      <td>0.0</td>\n",
       "      <td>train</td>\n",
       "    </tr>\n",
       "  </tbody>\n",
       "</table>\n",
       "<p>5 rows × 42 columns</p>\n",
       "</div>"
      ],
      "text/plain": [
       "  credit_default duration_months credit_history credit_amount  \\\n",
       "0              1              36              3          2225   \n",
       "1              1              12              0          1082   \n",
       "2              1              27              2          3915   \n",
       "3              1              30              1          7485   \n",
       "4              1               6              4          3384   \n",
       "\n",
       "  present_employment_yrs_lt installment_rate_disp_income_pct  \\\n",
       "0                        10                                4   \n",
       "1                         4                                4   \n",
       "2                         4                                4   \n",
       "3                         0                                4   \n",
       "4                         4                                1   \n",
       "\n",
       "  present_residence_since age_in_years n_existing_credits_this_bank job_type  \\\n",
       "0                       4           57                            2        2   \n",
       "1                       4           48                            2        2   \n",
       "2                       2           36                            1        2   \n",
       "3                       1           53                            1        3   \n",
       "4                       4           44                            1        3   \n",
       "\n",
       "   ... other_parties_none other_parties_guarantor other_parties_coapplicant  \\\n",
       "0  ...                1.0                     0.0                       0.0   \n",
       "1  ...                1.0                     0.0                       0.0   \n",
       "2  ...                1.0                     0.0                       0.0   \n",
       "3  ...                1.0                     0.0                       0.0   \n",
       "4  ...                1.0                     0.0                       0.0   \n",
       "\n",
       "  other_installment_plans_none other_installment_plans_bank  \\\n",
       "0                          0.0                          1.0   \n",
       "1                          0.0                          1.0   \n",
       "2                          1.0                          0.0   \n",
       "3                          0.0                          1.0   \n",
       "4                          1.0                          0.0   \n",
       "\n",
       "  other_installment_plans_stores housing_own  housing_rent  housing_for_free  \\\n",
       "0                            0.0         0.0           0.0               1.0   \n",
       "1                            0.0         1.0           0.0               0.0   \n",
       "2                            0.0         1.0           0.0               0.0   \n",
       "3                            0.0         1.0           0.0               0.0   \n",
       "4                            0.0         0.0           1.0               0.0   \n",
       "\n",
       "   dataset  \n",
       "0    train  \n",
       "1    train  \n",
       "2    train  \n",
       "3    train  \n",
       "4    train  \n",
       "\n",
       "[5 rows x 42 columns]"
      ]
     },
     "execution_count": 40,
     "metadata": {},
     "output_type": "execute_result"
    }
   ],
   "source": [
    "df = util.data.dataframe_from_s3_folder(flow_output_s3uri)\n",
    "df.head()"
   ]
  },
  {
   "cell_type": "code",
   "execution_count": 47,
   "metadata": {},
   "outputs": [
    {
     "data": {
      "text/plain": [
       "dataset\n",
       "test          0.152\n",
       "train         0.698\n",
       "validation    0.150\n",
       "Name: credit_default, dtype: float64"
      ]
     },
     "execution_count": 47,
     "metadata": {},
     "output_type": "execute_result"
    }
   ],
   "source": [
    "# Check dataset split is OK:\n",
    "dataset_lens = df.groupby([\"dataset\"])[\"credit_default\"].count()\n",
    "dataset_lens / len(df)"
   ]
  },
  {
   "cell_type": "code",
   "execution_count": 52,
   "metadata": {},
   "outputs": [
    {
     "data": {
      "text/plain": [
       "dataset     credit_default\n",
       "test        0                 0.697368\n",
       "            1                 0.302632\n",
       "train       0                 0.700573\n",
       "            1                 0.299427\n",
       "validation  0                 0.700000\n",
       "            1                 0.300000\n",
       "Name: credit_default, dtype: float64"
      ]
     },
     "execution_count": 52,
     "metadata": {},
     "output_type": "execute_result"
    }
   ],
   "source": [
    "# Check stratification has worked:\n",
    "df.groupby([\"dataset\", \"credit_default\"])[\"credit_default\"].count() / dataset_lens"
   ]
  },
  {
   "cell_type": "code",
   "execution_count": 53,
   "metadata": {},
   "outputs": [
    {
     "data": {
      "text/plain": [
       "dataset     gender_is_male\n",
       "test        False             0.328947\n",
       "            True              0.671053\n",
       "train       False             0.312321\n",
       "            True              0.687679\n",
       "validation  False             0.280000\n",
       "            True              0.720000\n",
       "dtype: float64"
      ]
     },
     "execution_count": 53,
     "metadata": {},
     "output_type": "execute_result"
    }
   ],
   "source": [
    "# How about the distribution of non-stratified fields:\n",
    "df.groupby([\"dataset\", \"gender_is_male\"])[\"gender_is_male\"].count() / dataset_lens"
   ]
  },
  {
   "cell_type": "markdown",
   "metadata": {},
   "source": [
    "## Training an initial model with SageMaker XGBoost Algorithm\n",
    "\n",
    "- Query the feature store to realise separate training/val/test sets?\n",
    "- XGB"
   ]
  },
  {
   "cell_type": "code",
   "execution_count": 13,
   "metadata": {},
   "outputs": [
    {
     "name": "stdout",
     "output_type": "stream",
     "text": [
      "ap-northeast-1\n"
     ]
    }
   ],
   "source": [
    "# Python Built-Ins:\n",
    "\n",
    "# External Dependencies:\n",
    "import sagemaker\n",
    "\n",
    "smsess = sagemaker.Session()\n",
    "region = smsess.boto_region_name\n",
    "print(region)"
   ]
  },
  {
   "cell_type": "code",
   "execution_count": 14,
   "metadata": {},
   "outputs": [
    {
     "name": "stdout",
     "output_type": "stream",
     "text": [
      "354813040037.dkr.ecr.ap-northeast-1.amazonaws.com/sagemaker-xgboost:1.0-1-cpu-py3\n"
     ]
    }
   ],
   "source": [
    "training_image = sagemaker.image_uris.retrieve(\"xgboost\", region=region, version=\"1.0-1\")\n",
    "print(training_image)"
   ]
  },
  {
   "cell_type": "code",
   "execution_count": 23,
   "metadata": {},
   "outputs": [
    {
     "name": "stdout",
     "output_type": "stream",
     "text": [
      "Training data s3://creditmodel-mlsandbox-024103970757-ap-northeast-1/???\n",
      "Validation data: s3://creditmodel-mlsandbox-024103970757-ap-northeast-1/???\n"
     ]
    }
   ],
   "source": [
    "# TODO: Replace '???' with the path where you saved your training file in S3\n",
    "train_uri = f\"s3://{project_config.sandbox_bucket}/???\"\n",
    "print(f\"Training data: {train_uri}\")\n",
    "s3_input_train = sagemaker.inputs.TrainingInput(train_uri, content_type=\"csv\")\n",
    "\n",
    "# TODO: Replace '???' with the path where you saved your training file in S3\n",
    "val_uri = f\"s3://{project_config.sandbox_bucket}/???\"\n",
    "print(f\"Validation data: {val_uri}\")\n",
    "s3_input_validation = sagemaker.inputs.TrainingInput(val_uri, content_type=\"csv\")"
   ]
  },
  {
   "cell_type": "code",
   "execution_count": null,
   "metadata": {},
   "outputs": [],
   "source": [
    "# Instantiate an XGBoost estimator object\n",
    "estimator = sagemaker.estimator.Estimator(\n",
    "    image_uri=training_image,  # XGBoost algorithm container\n",
    "    instance_type=\"ml.m5.xlarge\",  # type of training instance\n",
    "    instance_count=1,  # number of instances to be used\n",
    "    role=sgmk_role,  # IAM role to be used\n",
    "    max_run=20*60,  # Maximum allowed active runtime\n",
    "    use_spot_instances=True,  # Use spot instances to reduce cost\n",
    "    max_wait=30*60,  # Maximum clock time (including spot delays)\n",
    ")\n",
    "\n",
    "# define its hyperparameters\n",
    "estimator.set_hyperparameters(\n",
    "    num_round=150,  # int: [1,300]\n",
    "    max_depth=5,  # int: [1,10]\n",
    "    alpha=2.5,  # float: [0,5]\n",
    "    eta=0.5,  # float: [0,1]\n",
    "    objective=\"binary:logistic\",\n",
    ")\n",
    "\n",
    "# start a training (fitting) job\n",
    "estimator.fit({ \"train\": s3_input_train, \"validation\": s3_input_validation })"
   ]
  },
  {
   "cell_type": "markdown",
   "metadata": {},
   "source": [
    "## Testing the model with SageMaker Batch Transform"
   ]
  },
  {
   "cell_type": "code",
   "execution_count": null,
   "metadata": {},
   "outputs": [],
   "source": [
    "transformer = estimator.transformer(\n",
    "    instance_count=1,\n",
    "    instance_type=\"ml.m5.xlarge\",\n",
    "    output_path=f\"s3://{project_config.sandbox_bucket}/batch-results/\",\n",
    ")\n",
    "\n",
    "# calls that object's transform method to create a transform job\n",
    "transformer.transform(\n",
    "    data=s3_batch_input,\n",
    "    data_type=\"S3Prefix\",\n",
    "    content_type=\"text/csv\",\n",
    "    split_type=\"Line\",\n",
    ")\n",
    "\n",
    "# wait=True by default right? Or transformer.wait()"
   ]
  },
  {
   "cell_type": "code",
   "execution_count": null,
   "metadata": {},
   "outputs": [],
   "source": [
    "util.plotting.generate_classification_report(\n",
    "    y_real=,\n",
    "    y_predict_proba=, \n",
    "    decision_threshold=0.5,\n",
    "    class_names_list=[...],\n",
    "    title=\"Initial model\",\n",
    ")"
   ]
  },
  {
   "cell_type": "markdown",
   "metadata": {},
   "source": [
    "## Next steps"
   ]
  }
 ],
 "metadata": {
  "instance_type": "ml.t3.medium",
  "kernelspec": {
   "display_name": "Python 3 (Data Science)",
   "language": "python",
   "name": "python3__SAGEMAKER_INTERNAL__arn:aws:sagemaker:ap-northeast-1:102112518831:image/datascience-1.0"
  },
  "language_info": {
   "codemirror_mode": {
    "name": "ipython",
    "version": 3
   },
   "file_extension": ".py",
   "mimetype": "text/x-python",
   "name": "python",
   "nbconvert_exporter": "python",
   "pygments_lexer": "ipython3",
   "version": "3.7.10"
  }
 },
 "nbformat": 4,
 "nbformat_minor": 4
}
